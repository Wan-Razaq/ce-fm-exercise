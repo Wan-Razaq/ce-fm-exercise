{
 "cells": [
  {
   "cell_type": "code",
   "execution_count": 1,
   "metadata": {},
   "outputs": [],
   "source": [
    "import re"
   ]
  },
  {
   "cell_type": "markdown",
   "metadata": {},
   "source": [
    "Remove URLs from the text: \"The link to latest football score. https://xyz.com/a/b\""
   ]
  },
  {
   "cell_type": "code",
   "execution_count": 2,
   "metadata": {},
   "outputs": [],
   "source": [
    "# Define function for removing the URL\n",
    "def remove_urls(text):\n",
    "    url_pattern = r'https?://\\S+'\n",
    "    return re.sub(url_pattern, '', text)\n"
   ]
  },
  {
   "cell_type": "code",
   "execution_count": 5,
   "metadata": {},
   "outputs": [
    {
     "name": "stdout",
     "output_type": "stream",
     "text": [
      "Removing URLs:\n",
      "The link to latest football score. \n"
     ]
    }
   ],
   "source": [
    "print(\"Removing URLs:\")\n",
    "print(remove_urls(\"The link to latest football score. https://xyz.com/a/b\"))"
   ]
  },
  {
   "cell_type": "markdown",
   "metadata": {},
   "source": [
    "Remove alphanumeric words from the text: \"Hello Maria whatsup123\""
   ]
  },
  {
   "cell_type": "code",
   "execution_count": 7,
   "metadata": {},
   "outputs": [],
   "source": [
    "# Define the function for removing alpha numeric words\n",
    "def remove_alphanumeric_words(text):\n",
    "    alphanumeric_pattern = r'\\b\\w*\\d\\w*\\b'\n",
    "    return re.sub(alphanumeric_pattern, '', text)"
   ]
  },
  {
   "cell_type": "code",
   "execution_count": 8,
   "metadata": {},
   "outputs": [
    {
     "name": "stdout",
     "output_type": "stream",
     "text": [
      "Removing alphanumeric words:\n",
      "Hello Maria \n"
     ]
    }
   ],
   "source": [
    "print(\"Removing alphanumeric words:\")\n",
    "print(remove_alphanumeric_words(\"Hello Maria whatsup123\"))"
   ]
  },
  {
   "cell_type": "markdown",
   "metadata": {},
   "source": [
    "Remove words starting with '#' character: \"Mado is very good with last ball six #dhoni #six\""
   ]
  },
  {
   "cell_type": "code",
   "execution_count": 13,
   "metadata": {},
   "outputs": [],
   "source": [
    "# Define the function for removing hashtags\n",
    "def remove_hashtags(text):\n",
    "    hashtag_pattern = r'#\\w+\\s?'\n",
    "    return re.sub(hashtag_pattern, '', text)"
   ]
  },
  {
   "cell_type": "code",
   "execution_count": 14,
   "metadata": {},
   "outputs": [
    {
     "name": "stdout",
     "output_type": "stream",
     "text": [
      "Removing hashtags:\n",
      "Mado is very good with last ball six \n"
     ]
    }
   ],
   "source": [
    "print(\"Removing hashtags:\")\n",
    "print(remove_hashtags(\"Mado is very good with last ball six #dhoni #six\"))"
   ]
  },
  {
   "cell_type": "markdown",
   "metadata": {},
   "source": [
    "Splits alphanumeric words into digits and text: \"I will be buying movie tickets for 4adults\""
   ]
  },
  {
   "cell_type": "code",
   "execution_count": 20,
   "metadata": {},
   "outputs": [],
   "source": [
    "# Define funtion for splitting digits and text\n",
    "def split_alphanumeric(text):\n",
    "    return re.sub(r'(\\d+)(?=[a-zA-Z])|(?<=[a-zA-Z])(\\d+)', r' \\1\\2 ', text).strip()\n"
   ]
  },
  {
   "cell_type": "code",
   "execution_count": 21,
   "metadata": {},
   "outputs": [
    {
     "name": "stdout",
     "output_type": "stream",
     "text": [
      "Splitting alphanumeric words:\n",
      "I will be buying movie tickets for  4 adults\n"
     ]
    }
   ],
   "source": [
    "print(\"Splitting alphanumeric words:\")\n",
    "print(split_alphanumeric(\"I will be buying movie tickets for 4adults\"))"
   ]
  },
  {
   "cell_type": "code",
   "execution_count": null,
   "metadata": {},
   "outputs": [],
   "source": []
  }
 ],
 "metadata": {
  "kernelspec": {
   "display_name": "venv",
   "language": "python",
   "name": "python3"
  },
  "language_info": {
   "codemirror_mode": {
    "name": "ipython",
    "version": 3
   },
   "file_extension": ".py",
   "mimetype": "text/x-python",
   "name": "python",
   "nbconvert_exporter": "python",
   "pygments_lexer": "ipython3",
   "version": "3.12.4"
  }
 },
 "nbformat": 4,
 "nbformat_minor": 2
}
