{
 "cells": [
  {
   "cell_type": "code",
   "execution_count": 7,
   "metadata": {},
   "outputs": [],
   "source": [
    "import pandas as pd\n",
    "import torch\n",
    "from transformers import BertTokenizer, BertForSequenceClassification"
   ]
  },
  {
   "cell_type": "code",
   "execution_count": 6,
   "metadata": {},
   "outputs": [
    {
     "name": "stderr",
     "output_type": "stream",
     "text": [
      "Some weights of BertForSequenceClassification were not initialized from the model checkpoint at bert-base-uncased and are newly initialized: ['classifier.bias', 'classifier.weight']\n",
      "You should probably TRAIN this model on a down-stream task to be able to use it for predictions and inference.\n"
     ]
    }
   ],
   "source": [
    "# Load pre-trained model and tokenizer\n",
    "model_name = \"bert-base-uncased\"\n",
    "tokenizer = BertTokenizer.from_pretrained(model_name)\n",
    "model = BertForSequenceClassification.from_pretrained(model_name)"
   ]
  },
  {
   "cell_type": "code",
   "execution_count": 8,
   "metadata": {},
   "outputs": [],
   "source": [
    "# Define the label mapping based on our decision. Here I am still using the labelling logic from the model on github.\n",
    "label_mapping = {\n",
    "    0: \"business\",\n",
    "    1: \"tech\",\n",
    "    2: \"politics\",\n",
    "    3: \"sport\"  # Assuming \"entertainment\" could be mapped here if similar enough in context\n",
    "}"
   ]
  },
  {
   "cell_type": "code",
   "execution_count": 9,
   "metadata": {},
   "outputs": [],
   "source": [
    "def classify_text(text):\n",
    "    # Tokenize the text for input to BERT\n",
    "    inputs = tokenizer(text, return_tensors='pt', padding=True, truncation=True, max_length=512)\n",
    "    \n",
    "    # Forward pass, get logits\n",
    "    with torch.no_grad():\n",
    "        outputs = model(**inputs)\n",
    "    logits = outputs.logits\n",
    "    \n",
    "    # Convert logits to probabilities and get the most likely class\n",
    "    probabilities = torch.softmax(logits, dim=-1)\n",
    "    predicted_class_index = probabilities.argmax(-1).item()\n",
    "    predicted_label = label_mapping[predicted_class_index]\n",
    "    \n",
    "    return predicted_label\n"
   ]
  },
  {
   "cell_type": "code",
   "execution_count": 12,
   "metadata": {},
   "outputs": [],
   "source": [
    "# Path to the summaries CSV file\n",
    "summaries_path = 'summaries.csv'\n",
    "summaries_df = pd.read_csv(summaries_path)"
   ]
  },
  {
   "cell_type": "code",
   "execution_count": 14,
   "metadata": {},
   "outputs": [
    {
     "name": "stdout",
     "output_type": "stream",
     "text": [
      "                                                text\n",
      "0  Time Warner profits up 76% to $1.13bn for the ...\n",
      "1  Dollar gains on Greenspan speech ahead of G7 f...\n",
      "2  Yukos' owner Menatep Group says it will ask Ro...\n"
     ]
    }
   ],
   "source": [
    "print(summaries_df.head())"
   ]
  },
  {
   "cell_type": "code",
   "execution_count": 15,
   "metadata": {},
   "outputs": [
    {
     "name": "stdout",
     "output_type": "stream",
     "text": [
      "Summary: Time Warner profits up 76% to $1.13bn for the three months to December. Firm now owns 8% of search-engine Google. But its own internet business, AOL, had has mixed fortunes.\n",
      "Predicted Category: business\n",
      "\n",
      "Summary: Dollar gains on Greenspan speech ahead of G7 finance ministers. In late trading in New York, the dollar reached $1.2871 against the euro. Greenspan highlighted the US government's willingness to curb spending and rising household savings.\n",
      "Predicted Category: business\n",
      "\n",
      "Summary: Yukos' owner Menatep Group says it will ask Rosneft to repay a loan that Yugansk had secured on its assets. Legal experts said RosneFT's purchase of Yugansk would include such obligations.\n",
      "Predicted Category: business\n",
      "\n"
     ]
    }
   ],
   "source": [
    "# Classify each summary and print the result\n",
    "for index, row in summaries_df.iterrows():\n",
    "    label = classify_text(row['text'])\n",
    "    print(f\"Summary: {row['text']}\\nPredicted Category: {label}\\n\")"
   ]
  },
  {
   "cell_type": "code",
   "execution_count": null,
   "metadata": {},
   "outputs": [],
   "source": []
  }
 ],
 "metadata": {
  "kernelspec": {
   "display_name": "venv",
   "language": "python",
   "name": "python3"
  },
  "language_info": {
   "codemirror_mode": {
    "name": "ipython",
    "version": 3
   },
   "file_extension": ".py",
   "mimetype": "text/x-python",
   "name": "python",
   "nbconvert_exporter": "python",
   "pygments_lexer": "ipython3",
   "version": "3.12.4"
  }
 },
 "nbformat": 4,
 "nbformat_minor": 2
}
